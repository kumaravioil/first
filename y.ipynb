{
 "cells": [
  {
   "cell_type": "code",
   "execution_count": 35,
   "id": "464aca80",
   "metadata": {},
   "outputs": [
    {
     "name": "stdout",
     "output_type": "stream",
     "text": [
      "--.|.\n",
      "---\n",
      "----.|..|..|.\n",
      "-----\n",
      "------.|..|..|..|..|.\n",
      "-------\n",
      "--------.|..|..|..|..|..|..|.\n",
      "---------\n",
      "----------.|..|..|..|..|..|..|..|..|.\n",
      "-----------\n",
      "------------.|..|..|..|..|..|..|..|..|..|..|.\n"
     ]
    }
   ],
   "source": [
    "h=\"-\"\n",
    "o=\".|.\"\n",
    "for i in range(1,12):\n",
    "    for k in range(i):\n",
    "        h=h+\"-\"\n",
    "    if i%2==1:\n",
    "        for q in range(i):\n",
    "            h=h+o\n",
    "    print(h)\n",
    "    h=\"-\""
   ]
  },
  {
   "cell_type": "code",
   "execution_count": 28,
   "id": "b2b9e812",
   "metadata": {},
   "outputs": [
    {
     "name": "stdout",
     "output_type": "stream",
     "text": [
      "5\n",
      "4\n",
      "3\n",
      "2\n",
      "1\n"
     ]
    }
   ],
   "source": [
    "for i in reversed(range(1,6,1)): # Iterates from 5 down to 1\n",
    "   print(i)"
   ]
  }
 ],
 "metadata": {
  "kernelspec": {
   "display_name": "Python 3",
   "language": "python",
   "name": "python3"
  },
  "language_info": {
   "codemirror_mode": {
    "name": "ipython",
    "version": 3
   },
   "file_extension": ".py",
   "mimetype": "text/x-python",
   "name": "python",
   "nbconvert_exporter": "python",
   "pygments_lexer": "ipython3",
   "version": "undefined.undefined.undefined"
  }
 },
 "nbformat": 4,
 "nbformat_minor": 5
}
