{
 "cells": [
  {
   "cell_type": "code",
   "execution_count": 10,
   "id": "3ec7aaa6",
   "metadata": {},
   "outputs": [
    {
     "name": "stdout",
     "output_type": "stream",
     "text": [
      "---------------------------\n",
      "---------------------------\n",
      "---------------------------\n",
      "---------------------------\n",
      "---------------------------\n",
      "---------------------------\n",
      "---------------------------\n",
      "---------------------------\n",
      "---------------------------\n"
     ]
    }
   ],
   "source": [
    "n=9\n",
    "m=27\n",
    "k=\".|.\"\n",
    "for x in range(n):\n",
    "    for y in range (m):\n",
    "        print(\"-\",end=\"\")\n",
    "    print()"
   ]
  },
  {
   "cell_type": "code",
   "execution_count": 32,
   "id": "d908a6cb",
   "metadata": {},
   "outputs": [
    {
     "name": "stdout",
     "output_type": "stream",
     "text": [
      "--------------.|.--------------\n",
      "--------------.|.--------------\n",
      "--------------.|.--------------\n",
      "--------------.|.--------------\n",
      "--------------.|.--------------\n",
      "--------------.|.--------------\n",
      "--------------.|.--------------\n",
      "--------------.|.--------------\n",
      "--------------.|.--------------\n"
     ]
    }
   ],
   "source": [
    "n=9\n",
    "m=27\n",
    "k=\".|.\"\n",
    "w=\"-\"\n",
    "for x in range(n):\n",
    "    for y in range(m):\n",
    "        if y==(m//2):\n",
    "            w=w+k\n",
    "            for i in range(y):\n",
    "                w=w+\"-\"\n",
    "                break\n",
    "        else:\n",
    "            w=w+\"-\"\n",
    "    print(w)\n",
    "    w=\"-\""
   ]
  },
  {
   "cell_type": "code",
   "execution_count": null,
   "id": "796dfb93",
   "metadata": {},
   "outputs": [
    {
     "data": {
      "text/plain": [
       "13"
      ]
     },
     "execution_count": 26,
     "metadata": {},
     "output_type": "execute_result"
    }
   ],
   "source": [
    "for "
   ]
  }
 ],
 "metadata": {
  "kernelspec": {
   "display_name": "Python 3",
   "language": "python",
   "name": "python3"
  },
  "language_info": {
   "codemirror_mode": {
    "name": "ipython",
    "version": 3
   },
   "file_extension": ".py",
   "mimetype": "text/x-python",
   "name": "python",
   "nbconvert_exporter": "python",
   "pygments_lexer": "ipython3",
   "version": "3.13.3"
  }
 },
 "nbformat": 4,
 "nbformat_minor": 5
}
